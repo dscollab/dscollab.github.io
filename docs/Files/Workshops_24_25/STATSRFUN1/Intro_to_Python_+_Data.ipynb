{
  "nbformat": 4,
  "nbformat_minor": 0,
  "metadata": {
    "colab": {
      "provenance": []
    },
    "kernelspec": {
      "name": "python3",
      "display_name": "Python 3"
    },
    "language_info": {
      "name": "python"
    }
  },
  "cells": [
    {
      "cell_type": "markdown",
      "source": [
        "**Creating Variables:**\n",
        "- A variable can be set to any data type\n",
        "- You can name a variable anything\n",
        "- Except... it cannot start with a number, or contain periods\n"
      ],
      "metadata": {
        "id": "osrINL-YD7Wy"
      }
    },
    {
      "cell_type": "code",
      "source": [
        "# 1) Create a variable with a value of 2, and another one with a value of 3\n"
      ],
      "metadata": {
        "id": "5M3McPeyE7ox"
      },
      "execution_count": null,
      "outputs": []
    },
    {
      "cell_type": "markdown",
      "source": [
        "**Basic Math Functions:**\n",
        "- Addition: x + y\n",
        "- Subtraction: x - y\n",
        "- Multiplication: x * y\n",
        "- Division: x/y\n",
        "- Exponential: x ** y"
      ],
      "metadata": {
        "id": "d3i6DqSkS5el"
      }
    },
    {
      "cell_type": "code",
      "source": [
        "# Add, multiply and divide your variables!\n"
      ],
      "metadata": {
        "id": "fGA8S29CcPx7"
      },
      "execution_count": null,
      "outputs": []
    },
    {
      "cell_type": "code",
      "source": [],
      "metadata": {
        "id": "Uv1gI_rSooHD"
      },
      "execution_count": null,
      "outputs": []
    },
    {
      "cell_type": "code",
      "source": [],
      "metadata": {
        "id": "U3tPNTeTooU-"
      },
      "execution_count": null,
      "outputs": []
    },
    {
      "cell_type": "markdown",
      "source": [
        "**Data Types**\n",
        "- Integers ('int'): Whole numbers\n",
        "- Floats ('float'): Decimals\n",
        "- Strings ('str'): Sequences of characters surrounded by quotations\n",
        "- Booleans ('bool'): True/False\n",
        "- Lists ('list'): Collections of items surrounded by brackets\n",
        "- Dictionaries ('dict'): Collections of items assigned to labels"
      ],
      "metadata": {
        "id": "A8yHD6atW5Ii"
      }
    },
    {
      "cell_type": "code",
      "source": [
        "# DO NOT REMOVE #\n",
        "\n",
        "num1 = 5\n",
        "num2 = 5.0\n",
        "num3 = \"5\"\n",
        "\n",
        "my_dict = {\n",
        "    'colors': ['red', 'blue', 'green'],\n",
        "    'numbers': [1,2,3],\n",
        "    'favorite food': 'pizza'\n",
        "    }\n",
        "\n",
        "my_list = [\"hey\", 35]\n",
        "\n",
        "# DO NOT REMOVE #"
      ],
      "metadata": {
        "id": "7ixaNypgZeyy"
      },
      "execution_count": null,
      "outputs": []
    },
    {
      "cell_type": "code",
      "source": [
        "# Find the types of each: num1, num2, num3, my_dict and my_list (hint: type())\n"
      ],
      "metadata": {
        "id": "cSl7rgfJbLgV"
      },
      "execution_count": null,
      "outputs": []
    },
    {
      "cell_type": "code",
      "source": [
        "# Create a list of numbers from 5-10 and a dictionary with your favorite\n",
        "# foods and favorite drinks\n"
      ],
      "metadata": {
        "id": "qTbIu89VbQuA"
      },
      "execution_count": null,
      "outputs": []
    },
    {
      "cell_type": "markdown",
      "source": [
        "**Indexing**: retrieving an element from a collection (such as a list of dictionary)\n",
        "- Remember it starts at 0!"
      ],
      "metadata": {
        "id": "_r_RFNpVYTv_"
      }
    },
    {
      "cell_type": "code",
      "source": [
        "# Retrieve the first element of my_list, and the color green from my_dict\n"
      ],
      "metadata": {
        "id": "0rwktjTmfQen"
      },
      "execution_count": null,
      "outputs": []
    },
    {
      "cell_type": "markdown",
      "source": [
        "**Importing Data:**\n",
        "- Data usually comes in the form of CSV's (comma seperated values)\n",
        "- We usually look at structured data which is a big table\n",
        "- We can index it like a dictionary!"
      ],
      "metadata": {
        "id": "WmKs4vksr_xh"
      }
    },
    {
      "cell_type": "code",
      "source": [
        "# Import data here, and show the \"head\"\n"
      ],
      "metadata": {
        "id": "JAeNTq9j3NY3"
      },
      "execution_count": null,
      "outputs": []
    }
  ]
}