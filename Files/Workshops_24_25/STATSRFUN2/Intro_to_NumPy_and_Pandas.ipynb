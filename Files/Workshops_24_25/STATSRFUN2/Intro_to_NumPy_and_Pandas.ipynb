{
  "nbformat": 4,
  "nbformat_minor": 0,
  "metadata": {
    "colab": {
      "provenance": []
    },
    "kernelspec": {
      "name": "python3",
      "display_name": "Python 3"
    },
    "language_info": {
      "name": "python"
    }
  },
  "cells": [
    {
      "cell_type": "markdown",
      "source": [
        "# **Getting Started**\n",
        "\n",
        "Create a copy of the worksheet by going in the top left and selecting File -> Save a copy in Drive"
      ],
      "metadata": {
        "id": "2RhttsHrhmHt"
      }
    },
    {
      "cell_type": "code",
      "execution_count": null,
      "metadata": {
        "id": "503UJppWb51Z"
      },
      "outputs": [],
      "source": [
        "# Import the NumPy and Pandas packages\n"
      ]
    },
    {
      "cell_type": "markdown",
      "source": [
        "# **NumPy Arrays**"
      ],
      "metadata": {
        "id": "7FNGmpUahF5B"
      }
    },
    {
      "cell_type": "markdown",
      "source": [
        "Arrays have the same underlying structure as lists! We can construct them using np.array() and index them the exact same way"
      ],
      "metadata": {
        "id": "jgxvmaMki-Qn"
      }
    },
    {
      "cell_type": "markdown",
      "source": [
        "Arrays have the same underlying structure as lists! Let us construct them by using np.array()"
      ],
      "metadata": {
        "id": "WKur0M-UhsTX"
      }
    },
    {
      "cell_type": "code",
      "source": [
        "# Create two NumPy arrays; one from 1-5, and another from 5-10\n"
      ],
      "metadata": {
        "id": "NEvMCxfFf7ns"
      },
      "execution_count": null,
      "outputs": []
    },
    {
      "cell_type": "code",
      "source": [
        "# Retrieve the first element from your arrays\n"
      ],
      "metadata": {
        "id": "T-vm8WWvjK-p"
      },
      "execution_count": null,
      "outputs": []
    },
    {
      "cell_type": "code",
      "source": [
        "# Retrieve the first 3 elements from your arrays\n"
      ],
      "metadata": {
        "id": "q-DUBtiKjPQF"
      },
      "execution_count": null,
      "outputs": []
    },
    {
      "cell_type": "markdown",
      "source": [
        "We can do mathematical operations between arrays such as addition and subtraction!"
      ],
      "metadata": {
        "id": "NJ_9Qq81iTSb"
      }
    },
    {
      "cell_type": "code",
      "source": [
        "# Add, subtract and multiply your arrays\n",
        "\n"
      ],
      "metadata": {
        "id": "RTnB_V6-gQgx"
      },
      "execution_count": null,
      "outputs": []
    },
    {
      "cell_type": "code",
      "source": [
        "# Find the sum of all elements in your arrays\n"
      ],
      "metadata": {
        "id": "1BF8SZZ2hE3K"
      },
      "execution_count": null,
      "outputs": []
    },
    {
      "cell_type": "code",
      "source": [
        "# Use np.linspace() to create an array of values of 0-20, in intervals of 5\n"
      ],
      "metadata": {
        "id": "dS-6d6UpefGT"
      },
      "execution_count": null,
      "outputs": []
    },
    {
      "cell_type": "code",
      "source": [
        "# Create a 3x3 array of values from 1-9\n",
        "\n"
      ],
      "metadata": {
        "id": "NgRLpJltj37f"
      },
      "execution_count": null,
      "outputs": []
    },
    {
      "cell_type": "code",
      "source": [
        "# Confirm that your array has dimensions of 3x3\n"
      ],
      "metadata": {
        "id": "hRNjLTmHkGZu"
      },
      "execution_count": null,
      "outputs": []
    },
    {
      "cell_type": "code",
      "source": [
        "# Recreate the same array but with a float data type instead of integer\n"
      ],
      "metadata": {
        "id": "HzKVoqjP9Caw"
      },
      "execution_count": null,
      "outputs": []
    },
    {
      "cell_type": "code",
      "source": [
        "# Confirm that your array have a float data type\n"
      ],
      "metadata": {
        "id": "wGO5PkKskVgE"
      },
      "execution_count": null,
      "outputs": []
    },
    {
      "cell_type": "markdown",
      "source": [
        "# **Pandas Data Frames**"
      ],
      "metadata": {
        "id": "bDRBmK3SleuS"
      }
    },
    {
      "cell_type": "markdown",
      "source": [
        "Pandas Data Frames have the same underlying structure as Python dictionaries. We can create them by using pd.DataFrame() and index them the exact same way"
      ],
      "metadata": {
        "id": "kExSCKrJi69U"
      }
    },
    {
      "cell_type": "code",
      "source": [
        "# Create a data frame with two columns; one with your three favorite foods and\n",
        "# another the values 1-3\n"
      ],
      "metadata": {
        "id": "Re8s8y9MgwnG"
      },
      "execution_count": null,
      "outputs": []
    },
    {
      "cell_type": "markdown",
      "source": [
        "Important Functions:\n",
        "\n",
        "Examining your data:\n",
        "- .head(): shows first 5 observations of data\n",
        "\n",
        "- .info(): shows number of rows, columns, blank (\"null\") values, and the data types of each variable\n",
        "\n",
        "- .dtype: shows the underlying data type (integers, floats, etc.)\n",
        "\n",
        "Analyzing your data:\n",
        " - .min(): Minimum value of a column\n",
        " - .max(): Maximum value of a column\n",
        " - .mean(): Average value of a column\n",
        " - .median(): Median value of a column\n",
        " - .sum(): Sum of all values in a column\n",
        " - .corr(): Shows correlation between values (NOTE: negative correlation does not mean less correlation, refer to workshop slides!)\n",
        " - .value_counts(): Shows number of observations per value in a column\n",
        " - .nunique(): Shows the amount of unique observations in a column\n"
      ],
      "metadata": {
        "id": "3kzB0Q3t6Tvm"
      }
    },
    {
      "cell_type": "code",
      "source": [
        "# Import the bestsellers dataset and view the head\n"
      ],
      "metadata": {
        "id": "7fppj_pDfZDY"
      },
      "execution_count": null,
      "outputs": []
    },
    {
      "cell_type": "code",
      "source": [
        "# Use .info() to see more details about our dataset\n"
      ],
      "metadata": {
        "id": "9Z6iCZFXoaN3"
      },
      "execution_count": null,
      "outputs": []
    },
    {
      "cell_type": "code",
      "source": [
        "# Let's check the type of our dataset!\n"
      ],
      "metadata": {
        "collapsed": true,
        "id": "Y1Vbss0DldVw"
      },
      "execution_count": null,
      "outputs": []
    },
    {
      "cell_type": "code",
      "source": [
        "# Retrieve the \"User Rating\" column from our dataset\n"
      ],
      "metadata": {
        "id": "lxAcasKLmfvA"
      },
      "execution_count": null,
      "outputs": []
    },
    {
      "cell_type": "code",
      "source": [
        "# Find the *data type* of the \"User Rating\" column\n"
      ],
      "metadata": {
        "id": "WIAS5oiBnGm6"
      },
      "execution_count": null,
      "outputs": []
    },
    {
      "cell_type": "code",
      "source": [
        "# Find the average amount of reviews in this dataset\n",
        "\n"
      ],
      "metadata": {
        "id": "UO5-B67cn89U"
      },
      "execution_count": null,
      "outputs": []
    },
    {
      "cell_type": "code",
      "source": [
        "# Find the cheapest and most expensive book prices in our dataset\n"
      ],
      "metadata": {
        "id": "OmS4wpQBoVtu"
      },
      "execution_count": null,
      "outputs": []
    },
    {
      "cell_type": "code",
      "source": [
        "# Find the names of the cheapest and most expensive books\n"
      ],
      "metadata": {
        "collapsed": true,
        "id": "8wpfUeYfpErl"
      },
      "execution_count": null,
      "outputs": []
    },
    {
      "cell_type": "code",
      "source": [
        "# Which authors have produced the most bestselling books\n"
      ],
      "metadata": {
        "id": "pY7vRuI1qYXH"
      },
      "execution_count": null,
      "outputs": []
    },
    {
      "cell_type": "code",
      "source": [
        "# Find the books that have a user rating less than 4\n"
      ],
      "metadata": {
        "id": "PBZSiYAWq8g_"
      },
      "execution_count": null,
      "outputs": []
    },
    {
      "cell_type": "code",
      "source": [
        "# How many of those books have less than 10,000 reviews?\n"
      ],
      "metadata": {
        "id": "BDjCS6EZrURN"
      },
      "execution_count": null,
      "outputs": []
    },
    {
      "cell_type": "code",
      "source": [
        "# Find the correlation between User Rating and Reviews\n"
      ],
      "metadata": {
        "id": "BNKX6S6ksHEk"
      },
      "execution_count": null,
      "outputs": []
    }
  ]
}